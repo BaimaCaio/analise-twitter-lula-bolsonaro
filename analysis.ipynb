{
 "cells": [
  {
   "attachments": {},
   "cell_type": "markdown",
   "metadata": {},
   "source": [
    "### Análise de tweets dos políticos Jair Bolsonaro (Partido Liberal) e Lula da Silva (Partido dos trabalhadores)\n",
    "###### Atividade realizada em março de 2023"
   ]
  },
  {
   "attachments": {},
   "cell_type": "markdown",
   "metadata": {},
   "source": [
    "Primeiro importar bibliotecas para visualizar as bases de dados:"
   ]
  },
  {
   "cell_type": "code",
   "execution_count": 1,
   "metadata": {},
   "outputs": [],
   "source": [
    "from sklearn.feature_extraction.text import CountVectorizer\n",
    "import re\n",
    "import pandas as pd\n",
    "import numpy as np\n",
    "from datetime import datetime\n",
    "import plotly.express as px\n",
    "import plotly.graph_objs as go\n",
    "import plotly.io as pio\n",
    "from plotly.subplots import make_subplots\n",
    "import IPython.display as display\n",
    "import matplotlib.pyplot as plt\n",
    "import nltk\n",
    "from nltk import tokenize, FreqDist\n",
    "from wordcloud import WordCloud\n",
    "import string\n",
    "import warnings\n",
    "\n",
    "\n",
    "stopwords = nltk.corpus.stopwords.words('portuguese')\n",
    "%matplotlib inline\n",
    "np.set_printoptions(threshold=np.inf)\n",
    "warnings.filterwarnings('ignore')\n",
    "\n",
    "\n",
    "df_bolsonaro = pd.read_json('jairbolsonaro.json')\n",
    "df_lula = pd.read_json('LulaOficial.json')\n",
    "\n",
    "\n",
    "# Criarei uma lista com os dois DataFrames para usar loop for para realizar procedimentos identicos em ambos.\n",
    "df = [df_bolsonaro, df_lula]\n",
    "nome = ['bolsonaro', 'lula']"
   ]
  },
  {
   "cell_type": "code",
   "execution_count": 2,
   "metadata": {},
   "outputs": [],
   "source": [
    "#nltk.download()"
   ]
  },
  {
   "cell_type": "code",
   "execution_count": 3,
   "metadata": {},
   "outputs": [
    {
     "data": {
      "text/html": [
       "<div>\n",
       "<style scoped>\n",
       "    .dataframe tbody tr th:only-of-type {\n",
       "        vertical-align: middle;\n",
       "    }\n",
       "\n",
       "    .dataframe tbody tr th {\n",
       "        vertical-align: top;\n",
       "    }\n",
       "\n",
       "    .dataframe thead th {\n",
       "        text-align: right;\n",
       "    }\n",
       "</style>\n",
       "<table border=\"1\" class=\"dataframe\">\n",
       "  <thead>\n",
       "    <tr style=\"text-align: right;\">\n",
       "      <th></th>\n",
       "      <th>created_at</th>\n",
       "      <th>id</th>\n",
       "      <th>id_str</th>\n",
       "      <th>full_text</th>\n",
       "      <th>truncated</th>\n",
       "      <th>display_text_range</th>\n",
       "      <th>entities</th>\n",
       "      <th>source</th>\n",
       "      <th>in_reply_to_status_id</th>\n",
       "      <th>in_reply_to_status_id_str</th>\n",
       "      <th>...</th>\n",
       "      <th>favorite_count</th>\n",
       "      <th>favorited</th>\n",
       "      <th>retweeted</th>\n",
       "      <th>lang</th>\n",
       "      <th>extended_entities</th>\n",
       "      <th>possibly_sensitive</th>\n",
       "      <th>quoted_status_id</th>\n",
       "      <th>quoted_status_id_str</th>\n",
       "      <th>quoted_status_permalink</th>\n",
       "      <th>quoted_status</th>\n",
       "    </tr>\n",
       "  </thead>\n",
       "  <tbody>\n",
       "    <tr>\n",
       "      <th>0</th>\n",
       "      <td>2010-04-01 02:59:50+00:00</td>\n",
       "      <td>11402700435</td>\n",
       "      <td>11402700435</td>\n",
       "      <td>EM \"DITADURA\" SEM PAREDÃO, ATÉ CHICO ALENCAR É...</td>\n",
       "      <td>False</td>\n",
       "      <td>[0, 137]</td>\n",
       "      <td>{'hashtags': [], 'symbols': [], 'user_mentions...</td>\n",
       "      <td>&lt;a href=\"https://about.twitter.com/products/tw...</td>\n",
       "      <td>NaN</td>\n",
       "      <td>NaN</td>\n",
       "      <td>...</td>\n",
       "      <td>15</td>\n",
       "      <td>False</td>\n",
       "      <td>False</td>\n",
       "      <td>pt</td>\n",
       "      <td>NaN</td>\n",
       "      <td>NaN</td>\n",
       "      <td>NaN</td>\n",
       "      <td>NaN</td>\n",
       "      <td>NaN</td>\n",
       "      <td>NaN</td>\n",
       "    </tr>\n",
       "  </tbody>\n",
       "</table>\n",
       "<p>1 rows × 30 columns</p>\n",
       "</div>"
      ],
      "text/plain": [
       "                 created_at           id       id_str  \\\n",
       "0 2010-04-01 02:59:50+00:00  11402700435  11402700435   \n",
       "\n",
       "                                           full_text  truncated  \\\n",
       "0  EM \"DITADURA\" SEM PAREDÃO, ATÉ CHICO ALENCAR É...      False   \n",
       "\n",
       "  display_text_range                                           entities  \\\n",
       "0           [0, 137]  {'hashtags': [], 'symbols': [], 'user_mentions...   \n",
       "\n",
       "                                              source  in_reply_to_status_id  \\\n",
       "0  <a href=\"https://about.twitter.com/products/tw...                    NaN   \n",
       "\n",
       "   in_reply_to_status_id_str  ...  favorite_count  favorited retweeted lang  \\\n",
       "0                        NaN  ...              15      False     False   pt   \n",
       "\n",
       "   extended_entities  possibly_sensitive quoted_status_id  \\\n",
       "0                NaN                 NaN              NaN   \n",
       "\n",
       "   quoted_status_id_str  quoted_status_permalink  quoted_status  \n",
       "0                   NaN                      NaN            NaN  \n",
       "\n",
       "[1 rows x 30 columns]"
      ]
     },
     "execution_count": 3,
     "metadata": {},
     "output_type": "execute_result"
    }
   ],
   "source": [
    "df_bolsonaro.head(1)"
   ]
  },
  {
   "cell_type": "code",
   "execution_count": 4,
   "metadata": {},
   "outputs": [
    {
     "data": {
      "text/html": [
       "<div>\n",
       "<style scoped>\n",
       "    .dataframe tbody tr th:only-of-type {\n",
       "        vertical-align: middle;\n",
       "    }\n",
       "\n",
       "    .dataframe tbody tr th {\n",
       "        vertical-align: top;\n",
       "    }\n",
       "\n",
       "    .dataframe thead th {\n",
       "        text-align: right;\n",
       "    }\n",
       "</style>\n",
       "<table border=\"1\" class=\"dataframe\">\n",
       "  <thead>\n",
       "    <tr style=\"text-align: right;\">\n",
       "      <th></th>\n",
       "      <th>created_at</th>\n",
       "      <th>id</th>\n",
       "      <th>id_str</th>\n",
       "      <th>full_text</th>\n",
       "      <th>truncated</th>\n",
       "      <th>display_text_range</th>\n",
       "      <th>entities</th>\n",
       "      <th>source</th>\n",
       "      <th>in_reply_to_status_id</th>\n",
       "      <th>in_reply_to_status_id_str</th>\n",
       "      <th>...</th>\n",
       "      <th>favorite_count</th>\n",
       "      <th>favorited</th>\n",
       "      <th>retweeted</th>\n",
       "      <th>lang</th>\n",
       "      <th>extended_entities</th>\n",
       "      <th>possibly_sensitive</th>\n",
       "      <th>quoted_status_id</th>\n",
       "      <th>quoted_status_id_str</th>\n",
       "      <th>quoted_status_permalink</th>\n",
       "      <th>quoted_status</th>\n",
       "    </tr>\n",
       "  </thead>\n",
       "  <tbody>\n",
       "    <tr>\n",
       "      <th>0</th>\n",
       "      <td>2018-08-17 16:23:04+00:00</td>\n",
       "      <td>1030490201460801541</td>\n",
       "      <td>1030490201460801536</td>\n",
       "      <td>\"O presidente Lula vai dar um passeio nessa el...</td>\n",
       "      <td>False</td>\n",
       "      <td>[0, 212]</td>\n",
       "      <td>{'hashtags': [], 'symbols': [], 'user_mentions...</td>\n",
       "      <td>&lt;a href=\"http://twitter.com\" rel=\"nofollow\"&gt;Tw...</td>\n",
       "      <td>NaN</td>\n",
       "      <td>NaN</td>\n",
       "      <td>...</td>\n",
       "      <td>347</td>\n",
       "      <td>False</td>\n",
       "      <td>False</td>\n",
       "      <td>pt</td>\n",
       "      <td>NaN</td>\n",
       "      <td>NaN</td>\n",
       "      <td>NaN</td>\n",
       "      <td>NaN</td>\n",
       "      <td>NaN</td>\n",
       "      <td>NaN</td>\n",
       "    </tr>\n",
       "  </tbody>\n",
       "</table>\n",
       "<p>1 rows × 30 columns</p>\n",
       "</div>"
      ],
      "text/plain": [
       "                 created_at                   id               id_str  \\\n",
       "0 2018-08-17 16:23:04+00:00  1030490201460801541  1030490201460801536   \n",
       "\n",
       "                                           full_text  truncated  \\\n",
       "0  \"O presidente Lula vai dar um passeio nessa el...      False   \n",
       "\n",
       "  display_text_range                                           entities  \\\n",
       "0           [0, 212]  {'hashtags': [], 'symbols': [], 'user_mentions...   \n",
       "\n",
       "                                              source  in_reply_to_status_id  \\\n",
       "0  <a href=\"http://twitter.com\" rel=\"nofollow\">Tw...                    NaN   \n",
       "\n",
       "   in_reply_to_status_id_str  ...  favorite_count  favorited retweeted lang  \\\n",
       "0                        NaN  ...             347      False     False   pt   \n",
       "\n",
       "   extended_entities  possibly_sensitive quoted_status_id  \\\n",
       "0                NaN                 NaN              NaN   \n",
       "\n",
       "   quoted_status_id_str  quoted_status_permalink  quoted_status  \n",
       "0                   NaN                      NaN            NaN  \n",
       "\n",
       "[1 rows x 30 columns]"
      ]
     },
     "execution_count": 4,
     "metadata": {},
     "output_type": "execute_result"
    }
   ],
   "source": [
    "df_lula.head(1)"
   ]
  },
  {
   "cell_type": "code",
   "execution_count": 5,
   "metadata": {},
   "outputs": [
    {
     "data": {
      "text/html": [
       "<div>\n",
       "<style scoped>\n",
       "    .dataframe tbody tr th:only-of-type {\n",
       "        vertical-align: middle;\n",
       "    }\n",
       "\n",
       "    .dataframe tbody tr th {\n",
       "        vertical-align: top;\n",
       "    }\n",
       "\n",
       "    .dataframe thead th {\n",
       "        text-align: right;\n",
       "    }\n",
       "</style>\n",
       "<table border=\"1\" class=\"dataframe\">\n",
       "  <thead>\n",
       "    <tr style=\"text-align: right;\">\n",
       "      <th></th>\n",
       "      <th>id</th>\n",
       "      <th>id_str</th>\n",
       "      <th>in_reply_to_status_id</th>\n",
       "      <th>in_reply_to_status_id_str</th>\n",
       "      <th>in_reply_to_user_id</th>\n",
       "      <th>in_reply_to_user_id_str</th>\n",
       "      <th>geo</th>\n",
       "      <th>coordinates</th>\n",
       "      <th>contributors</th>\n",
       "      <th>retweet_count</th>\n",
       "      <th>favorite_count</th>\n",
       "      <th>possibly_sensitive</th>\n",
       "      <th>quoted_status_id</th>\n",
       "      <th>quoted_status_id_str</th>\n",
       "    </tr>\n",
       "  </thead>\n",
       "  <tbody>\n",
       "    <tr>\n",
       "      <th>count</th>\n",
       "      <td>6.794000e+03</td>\n",
       "      <td>6.794000e+03</td>\n",
       "      <td>8.960000e+02</td>\n",
       "      <td>8.960000e+02</td>\n",
       "      <td>9.380000e+02</td>\n",
       "      <td>9.380000e+02</td>\n",
       "      <td>0.0</td>\n",
       "      <td>0.0</td>\n",
       "      <td>0.0</td>\n",
       "      <td>6794.000000</td>\n",
       "      <td>6794.00000</td>\n",
       "      <td>4840.000000</td>\n",
       "      <td>5.110000e+02</td>\n",
       "      <td>5.110000e+02</td>\n",
       "    </tr>\n",
       "    <tr>\n",
       "      <th>mean</th>\n",
       "      <td>9.392574e+17</td>\n",
       "      <td>9.392574e+17</td>\n",
       "      <td>1.126235e+18</td>\n",
       "      <td>1.126235e+18</td>\n",
       "      <td>1.160616e+17</td>\n",
       "      <td>1.160616e+17</td>\n",
       "      <td>NaN</td>\n",
       "      <td>NaN</td>\n",
       "      <td>NaN</td>\n",
       "      <td>2832.191934</td>\n",
       "      <td>17259.23403</td>\n",
       "      <td>0.000413</td>\n",
       "      <td>9.173497e+17</td>\n",
       "      <td>9.173497e+17</td>\n",
       "    </tr>\n",
       "    <tr>\n",
       "      <th>std</th>\n",
       "      <td>2.306608e+17</td>\n",
       "      <td>2.306608e+17</td>\n",
       "      <td>8.007480e+16</td>\n",
       "      <td>8.007480e+16</td>\n",
       "      <td>3.176804e+17</td>\n",
       "      <td>3.176804e+17</td>\n",
       "      <td>NaN</td>\n",
       "      <td>NaN</td>\n",
       "      <td>NaN</td>\n",
       "      <td>3825.469455</td>\n",
       "      <td>23296.47073</td>\n",
       "      <td>0.020326</td>\n",
       "      <td>1.544101e+17</td>\n",
       "      <td>1.544101e+17</td>\n",
       "    </tr>\n",
       "    <tr>\n",
       "      <th>min</th>\n",
       "      <td>1.139856e+10</td>\n",
       "      <td>1.139856e+10</td>\n",
       "      <td>1.805188e+10</td>\n",
       "      <td>1.805188e+10</td>\n",
       "      <td>6.741632e+06</td>\n",
       "      <td>6.741632e+06</td>\n",
       "      <td>NaN</td>\n",
       "      <td>NaN</td>\n",
       "      <td>NaN</td>\n",
       "      <td>0.000000</td>\n",
       "      <td>0.00000</td>\n",
       "      <td>0.000000</td>\n",
       "      <td>3.188040e+17</td>\n",
       "      <td>3.188040e+17</td>\n",
       "    </tr>\n",
       "    <tr>\n",
       "      <th>25%</th>\n",
       "      <td>7.949882e+17</td>\n",
       "      <td>7.949882e+17</td>\n",
       "      <td>1.091076e+18</td>\n",
       "      <td>1.091076e+18</td>\n",
       "      <td>1.283729e+08</td>\n",
       "      <td>1.283729e+08</td>\n",
       "      <td>NaN</td>\n",
       "      <td>NaN</td>\n",
       "      <td>NaN</td>\n",
       "      <td>197.000000</td>\n",
       "      <td>768.25000</td>\n",
       "      <td>0.000000</td>\n",
       "      <td>7.871808e+17</td>\n",
       "      <td>7.871808e+17</td>\n",
       "    </tr>\n",
       "    <tr>\n",
       "      <th>50%</th>\n",
       "      <td>1.015537e+18</td>\n",
       "      <td>1.015537e+18</td>\n",
       "      <td>1.132799e+18</td>\n",
       "      <td>1.132799e+18</td>\n",
       "      <td>1.283729e+08</td>\n",
       "      <td>1.283729e+08</td>\n",
       "      <td>NaN</td>\n",
       "      <td>NaN</td>\n",
       "      <td>NaN</td>\n",
       "      <td>1123.500000</td>\n",
       "      <td>5063.00000</td>\n",
       "      <td>0.000000</td>\n",
       "      <td>9.211851e+17</td>\n",
       "      <td>9.211851e+17</td>\n",
       "    </tr>\n",
       "    <tr>\n",
       "      <th>75%</th>\n",
       "      <td>1.115584e+18</td>\n",
       "      <td>1.115584e+18</td>\n",
       "      <td>1.185744e+18</td>\n",
       "      <td>1.185744e+18</td>\n",
       "      <td>1.283729e+08</td>\n",
       "      <td>1.283729e+08</td>\n",
       "      <td>NaN</td>\n",
       "      <td>NaN</td>\n",
       "      <td>NaN</td>\n",
       "      <td>4416.000000</td>\n",
       "      <td>28824.00000</td>\n",
       "      <td>0.000000</td>\n",
       "      <td>1.052834e+18</td>\n",
       "      <td>1.052834e+18</td>\n",
       "    </tr>\n",
       "    <tr>\n",
       "      <th>max</th>\n",
       "      <td>1.215030e+18</td>\n",
       "      <td>1.215030e+18</td>\n",
       "      <td>1.214932e+18</td>\n",
       "      <td>1.214932e+18</td>\n",
       "      <td>1.158390e+18</td>\n",
       "      <td>1.158390e+18</td>\n",
       "      <td>NaN</td>\n",
       "      <td>NaN</td>\n",
       "      <td>NaN</td>\n",
       "      <td>47448.000000</td>\n",
       "      <td>209562.00000</td>\n",
       "      <td>1.000000</td>\n",
       "      <td>1.213312e+18</td>\n",
       "      <td>1.213312e+18</td>\n",
       "    </tr>\n",
       "  </tbody>\n",
       "</table>\n",
       "</div>"
      ],
      "text/plain": [
       "                 id        id_str  in_reply_to_status_id  \\\n",
       "count  6.794000e+03  6.794000e+03           8.960000e+02   \n",
       "mean   9.392574e+17  9.392574e+17           1.126235e+18   \n",
       "std    2.306608e+17  2.306608e+17           8.007480e+16   \n",
       "min    1.139856e+10  1.139856e+10           1.805188e+10   \n",
       "25%    7.949882e+17  7.949882e+17           1.091076e+18   \n",
       "50%    1.015537e+18  1.015537e+18           1.132799e+18   \n",
       "75%    1.115584e+18  1.115584e+18           1.185744e+18   \n",
       "max    1.215030e+18  1.215030e+18           1.214932e+18   \n",
       "\n",
       "       in_reply_to_status_id_str  in_reply_to_user_id  \\\n",
       "count               8.960000e+02         9.380000e+02   \n",
       "mean                1.126235e+18         1.160616e+17   \n",
       "std                 8.007480e+16         3.176804e+17   \n",
       "min                 1.805188e+10         6.741632e+06   \n",
       "25%                 1.091076e+18         1.283729e+08   \n",
       "50%                 1.132799e+18         1.283729e+08   \n",
       "75%                 1.185744e+18         1.283729e+08   \n",
       "max                 1.214932e+18         1.158390e+18   \n",
       "\n",
       "       in_reply_to_user_id_str  geo  coordinates  contributors  retweet_count  \\\n",
       "count             9.380000e+02  0.0          0.0           0.0    6794.000000   \n",
       "mean              1.160616e+17  NaN          NaN           NaN    2832.191934   \n",
       "std               3.176804e+17  NaN          NaN           NaN    3825.469455   \n",
       "min               6.741632e+06  NaN          NaN           NaN       0.000000   \n",
       "25%               1.283729e+08  NaN          NaN           NaN     197.000000   \n",
       "50%               1.283729e+08  NaN          NaN           NaN    1123.500000   \n",
       "75%               1.283729e+08  NaN          NaN           NaN    4416.000000   \n",
       "max               1.158390e+18  NaN          NaN           NaN   47448.000000   \n",
       "\n",
       "       favorite_count  possibly_sensitive  quoted_status_id  \\\n",
       "count      6794.00000         4840.000000      5.110000e+02   \n",
       "mean      17259.23403            0.000413      9.173497e+17   \n",
       "std       23296.47073            0.020326      1.544101e+17   \n",
       "min           0.00000            0.000000      3.188040e+17   \n",
       "25%         768.25000            0.000000      7.871808e+17   \n",
       "50%        5063.00000            0.000000      9.211851e+17   \n",
       "75%       28824.00000            0.000000      1.052834e+18   \n",
       "max      209562.00000            1.000000      1.213312e+18   \n",
       "\n",
       "       quoted_status_id_str  \n",
       "count          5.110000e+02  \n",
       "mean           9.173497e+17  \n",
       "std            1.544101e+17  \n",
       "min            3.188040e+17  \n",
       "25%            7.871808e+17  \n",
       "50%            9.211851e+17  \n",
       "75%            1.052834e+18  \n",
       "max            1.213312e+18  "
      ]
     },
     "execution_count": 5,
     "metadata": {},
     "output_type": "execute_result"
    }
   ],
   "source": [
    "df_bolsonaro.describe()"
   ]
  },
  {
   "cell_type": "code",
   "execution_count": 6,
   "metadata": {},
   "outputs": [
    {
     "data": {
      "text/html": [
       "<div>\n",
       "<style scoped>\n",
       "    .dataframe tbody tr th:only-of-type {\n",
       "        vertical-align: middle;\n",
       "    }\n",
       "\n",
       "    .dataframe tbody tr th {\n",
       "        vertical-align: top;\n",
       "    }\n",
       "\n",
       "    .dataframe thead th {\n",
       "        text-align: right;\n",
       "    }\n",
       "</style>\n",
       "<table border=\"1\" class=\"dataframe\">\n",
       "  <thead>\n",
       "    <tr style=\"text-align: right;\">\n",
       "      <th></th>\n",
       "      <th>id</th>\n",
       "      <th>id_str</th>\n",
       "      <th>in_reply_to_status_id</th>\n",
       "      <th>in_reply_to_status_id_str</th>\n",
       "      <th>in_reply_to_user_id</th>\n",
       "      <th>in_reply_to_user_id_str</th>\n",
       "      <th>geo</th>\n",
       "      <th>coordinates</th>\n",
       "      <th>contributors</th>\n",
       "      <th>retweet_count</th>\n",
       "      <th>favorite_count</th>\n",
       "      <th>possibly_sensitive</th>\n",
       "      <th>quoted_status_id</th>\n",
       "      <th>quoted_status_id_str</th>\n",
       "    </tr>\n",
       "  </thead>\n",
       "  <tbody>\n",
       "    <tr>\n",
       "      <th>count</th>\n",
       "      <td>1.496100e+04</td>\n",
       "      <td>1.496100e+04</td>\n",
       "      <td>3.210000e+02</td>\n",
       "      <td>3.210000e+02</td>\n",
       "      <td>3.880000e+02</td>\n",
       "      <td>3.880000e+02</td>\n",
       "      <td>0.0</td>\n",
       "      <td>0.0</td>\n",
       "      <td>0.0</td>\n",
       "      <td>14961.000000</td>\n",
       "      <td>14961.000000</td>\n",
       "      <td>6052.000000</td>\n",
       "      <td>6.200000e+01</td>\n",
       "      <td>6.200000e+01</td>\n",
       "    </tr>\n",
       "    <tr>\n",
       "      <th>mean</th>\n",
       "      <td>9.006664e+17</td>\n",
       "      <td>9.006664e+17</td>\n",
       "      <td>9.467678e+17</td>\n",
       "      <td>9.467678e+17</td>\n",
       "      <td>2.224372e+09</td>\n",
       "      <td>2.224372e+09</td>\n",
       "      <td>NaN</td>\n",
       "      <td>NaN</td>\n",
       "      <td>NaN</td>\n",
       "      <td>282.220039</td>\n",
       "      <td>1040.279193</td>\n",
       "      <td>0.000330</td>\n",
       "      <td>1.060340e+18</td>\n",
       "      <td>1.060340e+18</td>\n",
       "    </tr>\n",
       "    <tr>\n",
       "      <th>std</th>\n",
       "      <td>1.670683e+17</td>\n",
       "      <td>1.670683e+17</td>\n",
       "      <td>1.343728e+17</td>\n",
       "      <td>1.343728e+17</td>\n",
       "      <td>9.738599e+08</td>\n",
       "      <td>9.738599e+08</td>\n",
       "      <td>NaN</td>\n",
       "      <td>NaN</td>\n",
       "      <td>NaN</td>\n",
       "      <td>1286.263890</td>\n",
       "      <td>5947.039040</td>\n",
       "      <td>0.018177</td>\n",
       "      <td>1.533471e+17</td>\n",
       "      <td>1.533471e+17</td>\n",
       "    </tr>\n",
       "    <tr>\n",
       "      <th>min</th>\n",
       "      <td>5.068213e+17</td>\n",
       "      <td>5.068213e+17</td>\n",
       "      <td>5.080068e+17</td>\n",
       "      <td>5.080068e+17</td>\n",
       "      <td>1.450223e+07</td>\n",
       "      <td>1.450223e+07</td>\n",
       "      <td>NaN</td>\n",
       "      <td>NaN</td>\n",
       "      <td>NaN</td>\n",
       "      <td>0.000000</td>\n",
       "      <td>0.000000</td>\n",
       "      <td>0.000000</td>\n",
       "      <td>7.500959e+17</td>\n",
       "      <td>7.500959e+17</td>\n",
       "    </tr>\n",
       "    <tr>\n",
       "      <th>25%</th>\n",
       "      <td>8.238888e+17</td>\n",
       "      <td>8.238888e+17</td>\n",
       "      <td>8.519482e+17</td>\n",
       "      <td>8.519482e+17</td>\n",
       "      <td>2.670727e+09</td>\n",
       "      <td>2.670727e+09</td>\n",
       "      <td>NaN</td>\n",
       "      <td>NaN</td>\n",
       "      <td>NaN</td>\n",
       "      <td>33.000000</td>\n",
       "      <td>63.000000</td>\n",
       "      <td>0.000000</td>\n",
       "      <td>9.437039e+17</td>\n",
       "      <td>9.437039e+17</td>\n",
       "    </tr>\n",
       "    <tr>\n",
       "      <th>50%</th>\n",
       "      <td>9.203011e+17</td>\n",
       "      <td>9.203011e+17</td>\n",
       "      <td>1.009560e+18</td>\n",
       "      <td>1.009560e+18</td>\n",
       "      <td>2.670727e+09</td>\n",
       "      <td>2.670727e+09</td>\n",
       "      <td>NaN</td>\n",
       "      <td>NaN</td>\n",
       "      <td>NaN</td>\n",
       "      <td>81.000000</td>\n",
       "      <td>190.000000</td>\n",
       "      <td>0.000000</td>\n",
       "      <td>1.116504e+18</td>\n",
       "      <td>1.116504e+18</td>\n",
       "    </tr>\n",
       "    <tr>\n",
       "      <th>75%</th>\n",
       "      <td>1.025782e+18</td>\n",
       "      <td>1.025782e+18</td>\n",
       "      <td>1.029835e+18</td>\n",
       "      <td>1.029835e+18</td>\n",
       "      <td>2.670727e+09</td>\n",
       "      <td>2.670727e+09</td>\n",
       "      <td>NaN</td>\n",
       "      <td>NaN</td>\n",
       "      <td>NaN</td>\n",
       "      <td>210.000000</td>\n",
       "      <td>543.000000</td>\n",
       "      <td>0.000000</td>\n",
       "      <td>1.171330e+18</td>\n",
       "      <td>1.171330e+18</td>\n",
       "    </tr>\n",
       "    <tr>\n",
       "      <th>max</th>\n",
       "      <td>1.215012e+18</td>\n",
       "      <td>1.215012e+18</td>\n",
       "      <td>1.214544e+18</td>\n",
       "      <td>1.214544e+18</td>\n",
       "      <td>3.988096e+09</td>\n",
       "      <td>3.988096e+09</td>\n",
       "      <td>NaN</td>\n",
       "      <td>NaN</td>\n",
       "      <td>NaN</td>\n",
       "      <td>82353.000000</td>\n",
       "      <td>352535.000000</td>\n",
       "      <td>1.000000</td>\n",
       "      <td>1.214502e+18</td>\n",
       "      <td>1.214502e+18</td>\n",
       "    </tr>\n",
       "  </tbody>\n",
       "</table>\n",
       "</div>"
      ],
      "text/plain": [
       "                 id        id_str  in_reply_to_status_id  \\\n",
       "count  1.496100e+04  1.496100e+04           3.210000e+02   \n",
       "mean   9.006664e+17  9.006664e+17           9.467678e+17   \n",
       "std    1.670683e+17  1.670683e+17           1.343728e+17   \n",
       "min    5.068213e+17  5.068213e+17           5.080068e+17   \n",
       "25%    8.238888e+17  8.238888e+17           8.519482e+17   \n",
       "50%    9.203011e+17  9.203011e+17           1.009560e+18   \n",
       "75%    1.025782e+18  1.025782e+18           1.029835e+18   \n",
       "max    1.215012e+18  1.215012e+18           1.214544e+18   \n",
       "\n",
       "       in_reply_to_status_id_str  in_reply_to_user_id  \\\n",
       "count               3.210000e+02         3.880000e+02   \n",
       "mean                9.467678e+17         2.224372e+09   \n",
       "std                 1.343728e+17         9.738599e+08   \n",
       "min                 5.080068e+17         1.450223e+07   \n",
       "25%                 8.519482e+17         2.670727e+09   \n",
       "50%                 1.009560e+18         2.670727e+09   \n",
       "75%                 1.029835e+18         2.670727e+09   \n",
       "max                 1.214544e+18         3.988096e+09   \n",
       "\n",
       "       in_reply_to_user_id_str  geo  coordinates  contributors  retweet_count  \\\n",
       "count             3.880000e+02  0.0          0.0           0.0   14961.000000   \n",
       "mean              2.224372e+09  NaN          NaN           NaN     282.220039   \n",
       "std               9.738599e+08  NaN          NaN           NaN    1286.263890   \n",
       "min               1.450223e+07  NaN          NaN           NaN       0.000000   \n",
       "25%               2.670727e+09  NaN          NaN           NaN      33.000000   \n",
       "50%               2.670727e+09  NaN          NaN           NaN      81.000000   \n",
       "75%               2.670727e+09  NaN          NaN           NaN     210.000000   \n",
       "max               3.988096e+09  NaN          NaN           NaN   82353.000000   \n",
       "\n",
       "       favorite_count  possibly_sensitive  quoted_status_id  \\\n",
       "count    14961.000000         6052.000000      6.200000e+01   \n",
       "mean      1040.279193            0.000330      1.060340e+18   \n",
       "std       5947.039040            0.018177      1.533471e+17   \n",
       "min          0.000000            0.000000      7.500959e+17   \n",
       "25%         63.000000            0.000000      9.437039e+17   \n",
       "50%        190.000000            0.000000      1.116504e+18   \n",
       "75%        543.000000            0.000000      1.171330e+18   \n",
       "max     352535.000000            1.000000      1.214502e+18   \n",
       "\n",
       "       quoted_status_id_str  \n",
       "count          6.200000e+01  \n",
       "mean           1.060340e+18  \n",
       "std            1.533471e+17  \n",
       "min            7.500959e+17  \n",
       "25%            9.437039e+17  \n",
       "50%            1.116504e+18  \n",
       "75%            1.171330e+18  \n",
       "max            1.214502e+18  "
      ]
     },
     "execution_count": 6,
     "metadata": {},
     "output_type": "execute_result"
    }
   ],
   "source": [
    "df_lula.describe()"
   ]
  },
  {
   "cell_type": "code",
   "execution_count": null,
   "metadata": {},
   "outputs": [],
   "source": [
    "df_bolsonaro.info()"
   ]
  },
  {
   "cell_type": "code",
   "execution_count": null,
   "metadata": {},
   "outputs": [],
   "source": [
    "df_lula.info()"
   ]
  },
  {
   "attachments": {},
   "cell_type": "markdown",
   "metadata": {},
   "source": [
    "___"
   ]
  },
  {
   "attachments": {},
   "cell_type": "markdown",
   "metadata": {},
   "source": [
    "#### Primeiras percepções:"
   ]
  },
  {
   "cell_type": "code",
   "execution_count": null,
   "metadata": {},
   "outputs": [],
   "source": [
    "data_inicio_b = datetime.strptime(str(df_bolsonaro['created_at'].min()), '%Y-%m-%d %H:%M:%S%z').strftime('%d/%m/%Y')\n",
    "data_fim_b = datetime.strptime(str(df_bolsonaro['created_at'].max()), '%Y-%m-%d %H:%M:%S%z').strftime('%d/%m/%Y')\n",
    "\n",
    "data_inicio_l = datetime.strptime(str(df_lula['created_at'].min()), '%Y-%m-%d %H:%M:%S%z').strftime('%d/%m/%Y')\n",
    "data_fim_l = datetime.strptime(str(df_lula['created_at'].max()), '%Y-%m-%d %H:%M:%S%z').strftime('%d/%m/%Y')\n",
    "\n",
    "\n",
    "print(f'Jair Bolsonaro:\\nTweets coletados entre {data_inicio_b} e {data_fim_b}.\\n\\\n",
    "Total de {len(df_bolsonaro)} tweets.\\n')\n",
    "\n",
    "print(f'Lula da Silva:\\nTweets coletados entre {data_inicio_l} e {data_fim_l}.\\n\\\n",
    "Total de {len(df_lula)} tweets.\\n')\n"
   ]
  },
  {
   "attachments": {},
   "cell_type": "markdown",
   "metadata": {},
   "source": [
    "___"
   ]
  },
  {
   "attachments": {},
   "cell_type": "markdown",
   "metadata": {},
   "source": [
    "##### Verifiquei que as colunas abaixo contém a mesma informação em todas as linhas."
   ]
  },
  {
   "cell_type": "code",
   "execution_count": null,
   "metadata": {},
   "outputs": [],
   "source": [
    "print(df_bolsonaro['truncated'].value_counts())\n",
    "print(df_bolsonaro['favorited'].value_counts())\n",
    "print(df_bolsonaro['retweeted'].value_counts())\n",
    "\n",
    "print(df_lula['truncated'].value_counts())\n",
    "print(df_lula['favorited'].value_counts())\n",
    "print(df_lula['retweeted'].value_counts())"
   ]
  },
  {
   "attachments": {},
   "cell_type": "markdown",
   "metadata": {},
   "source": [
    "___"
   ]
  },
  {
   "attachments": {},
   "cell_type": "markdown",
   "metadata": {},
   "source": [
    "#### Visto que, para uma análise política sob a perspectiva dos dados que possuímos, muitas colunas não são muito relevantes, fiz uma seleção do que para mim possa ser mais importante para explorar. "
   ]
  },
  {
   "cell_type": "code",
   "execution_count": null,
   "metadata": {},
   "outputs": [],
   "source": [
    "df_txt_bolsonaro = df[0][['created_at', 'full_text', 'display_text_range', 'favorite_count', 'retweet_count']]\n",
    "df_txt_lula = df[1][['created_at', 'full_text', 'display_text_range', 'favorite_count', 'retweet_count']]"
   ]
  },
  {
   "cell_type": "code",
   "execution_count": null,
   "metadata": {},
   "outputs": [],
   "source": [
    "df_txt_lula.head(2)"
   ]
  },
  {
   "cell_type": "code",
   "execution_count": null,
   "metadata": {},
   "outputs": [],
   "source": [
    "df_txt_bolsonaro.head(2)"
   ]
  },
  {
   "attachments": {},
   "cell_type": "markdown",
   "metadata": {},
   "source": [
    "___"
   ]
  },
  {
   "attachments": {},
   "cell_type": "markdown",
   "metadata": {},
   "source": [
    "#### É importante formatar a data de uma forma mais visível e melhor de se trabalhar:"
   ]
  },
  {
   "cell_type": "code",
   "execution_count": null,
   "metadata": {},
   "outputs": [],
   "source": [
    "df_txt_bolsonaro['created_at'] = df_txt_bolsonaro['created_at'].dt.strftime('%d/%m/%Y')\n",
    "df_txt_bolsonaro['created_at'] = pd.to_datetime(df_txt_bolsonaro['created_at'])\n",
    "\n",
    "df_txt_lula['created_at'] = df_txt_lula['created_at'].dt.strftime('%d/%m/%Y')\n",
    "df_txt_lula['created_at'] = pd.to_datetime(df_txt_lula['created_at'])"
   ]
  },
  {
   "cell_type": "code",
   "execution_count": null,
   "metadata": {},
   "outputs": [],
   "source": [
    "# Organizando os dataframes por data:\n",
    "df_txt_lula = df_txt_lula.sort_values('created_at')\n",
    "df_txt_bolsonaro = df_txt_bolsonaro.sort_values('created_at')"
   ]
  },
  {
   "cell_type": "code",
   "execution_count": null,
   "metadata": {},
   "outputs": [],
   "source": [
    "df_txt_lula.head(2)"
   ]
  },
  {
   "cell_type": "code",
   "execution_count": null,
   "metadata": {},
   "outputs": [],
   "source": [
    "df_txt_bolsonaro.head(2)"
   ]
  },
  {
   "attachments": {},
   "cell_type": "markdown",
   "metadata": {},
   "source": [
    "Acredito que para uma análise imparcial, é importante trabalhar com a mesma delimitação temporal.\n",
    "Se os tweets de Lula de nossa base de dados se iniciam dia 10/01/2014, filtrarei os de Bolsonaro também a partir desta data."
   ]
  },
  {
   "cell_type": "code",
   "execution_count": null,
   "metadata": {},
   "outputs": [],
   "source": [
    "df_txt_bolsonaro = df_txt_bolsonaro.loc[(df_txt_bolsonaro['created_at'] >=  '2014-01-10')\n",
    "                                        &\n",
    "                                        (df_txt_bolsonaro['created_at'] <=  '2019-12-31')]\n",
    "\n",
    "\n",
    "df_txt_lula = df_txt_lula.loc[(df_txt_lula['created_at'] >=  '2014-01-10')\n",
    "                                        &\n",
    "                                        (df_txt_lula['created_at'] <=  '2019-12-31')]"
   ]
  },
  {
   "attachments": {},
   "cell_type": "markdown",
   "metadata": {},
   "source": [
    "Com as as duas variáveis submetidas à condições similares, podemos começar a fazer algumas investigações:"
   ]
  },
  {
   "cell_type": "code",
   "execution_count": null,
   "metadata": {},
   "outputs": [],
   "source": [
    "# Vou criar uma nova coluna indicado apenas o ano do tweet.\n",
    "\n",
    "df_txt_bolsonaro['ano'] = pd.to_datetime(df_txt_bolsonaro['created_at']).dt.year\n",
    "df_txt_lula['ano'] = pd.to_datetime(df_txt_lula['created_at']).dt.year"
   ]
  },
  {
   "cell_type": "code",
   "execution_count": null,
   "metadata": {},
   "outputs": [],
   "source": [
    "fig = make_subplots(rows=1, cols=1)\n",
    "\n",
    "fig.add_trace(go.Histogram(x=df_txt_bolsonaro['ano'], name='Bolsonaro'))\n",
    "fig.add_trace(go.Histogram(x=df_txt_lula['ano'], name='Lula'))\n",
    "\n",
    "display.Image(pio.to_image(fig, format='png'))\n",
    "#fig.show()\n"
   ]
  },
  {
   "cell_type": "code",
   "execution_count": null,
   "metadata": {},
   "outputs": [],
   "source": [
    "fig = make_subplots(rows=2, cols=1, subplot_titles=('Bolsonaro', 'Lula'))\n",
    "\n",
    "fig.add_trace(go.Violin(y=df_txt_bolsonaro['favorite_count'],name='Favorite Count', points='all', line_color='blue'))\n",
    "fig.add_trace(go.Violin(y=df_txt_bolsonaro['retweet_count'], name='Retweet Count', points='all', line_color='red'))\n",
    "\n",
    "fig.add_trace(go.Violin(y=df_txt_lula['favorite_count'],\n",
    "                        name='Favorite Count', points='all', line_color='blue', showlegend=False), row=2, col=1)\n",
    "fig.add_trace(go.Violin(y=df_txt_lula['retweet_count'], \n",
    "                        name='Retweet Count', points='all', line_color='red', showlegend=False), row=2, col=1)\n",
    "\n",
    "fig.update_yaxes(title_text='Quantidade')\n",
    "fig.update_layout(xaxis_title='')\n",
    "fig.update_yaxes(range=[0, 360000])\n",
    "\n",
    "display.Image(pio.to_image(fig, format='png'))\n",
    "#fig.show()"
   ]
  },
  {
   "attachments": {},
   "cell_type": "markdown",
   "metadata": {},
   "source": [
    "A figura acima demonstra que mesmo que Lula faça mais publicações no twitter, bolsonaro tem um engajamento muito maior."
   ]
  },
  {
   "attachments": {},
   "cell_type": "markdown",
   "metadata": {},
   "source": [
    "___"
   ]
  },
  {
   "attachments": {},
   "cell_type": "markdown",
   "metadata": {},
   "source": [
    "#### Datas relevantes:\n",
    "Processo de impeachment de Dilma Rousseff:\n",
    "> 2 de dezembro de 2015 – 31 de ago. de 2016\n",
    "\n",
    "Período em que Lula esteve preso:\n",
    "> 7 de abril de 2018 - 8 de novembro de 2019\n",
    "\n",
    "Período de campanha eleitoral em que Bolsonaro foi eleito (2018):\n",
    "> 31 de agosto de 2018 - 28 de outubro de 2018\n",
    "\n",
    "Eleições do 1º turno de 2018:\n",
    "> 7 de outubro de 2018\n",
    "\n",
    "Eleições do 2º turno de 2018:\n",
    "> 28 de outubro de 2018"
   ]
  },
  {
   "attachments": {},
   "cell_type": "markdown",
   "metadata": {},
   "source": [
    "\n",
    "###### Datas verificadas em:\n",
    "###### https://pt.wikipedia.org/wiki/Prisão_de_Luiz_Inácio_Lula_da_Silva\n",
    "###### https://www.tse.jus.br/comunicacao/noticias/2018/Janeiro/eleicoes-2018-2013-confira-o-calendario-com-as-principais-datas"
   ]
  },
  {
   "attachments": {},
   "cell_type": "markdown",
   "metadata": {},
   "source": [
    "Reflexões:\n",
    "- O que ocorreu em 2015 no Twitter de Lula? Nossa base de dados só contém 66 entradas. \n",
    "- Bolsonaro segue uma crescente ampliação de publicações no Twitter em todo o período, Lula só tem uma crescente entre 2016 e 2017, onde saltou de 2000 tweets para 5000 tweets.\n",
    "- Em 2017 havia fortes campanha a favor e contra a prisão de Lula.\n",
    "- Em 2018 Lula estava preso e participou por algum tempo do processo eleitoral, até sua candidatura ser impugnada.\n",
    "- Em 2019 se inicia a gestão do Governo Bolsonaro. Lula segue preso."
   ]
  },
  {
   "attachments": {},
   "cell_type": "markdown",
   "metadata": {},
   "source": [
    "Verifiquei manualmente e realmente só há 66 tweets no perfil de Lula em 2015. Todos publicados no mesmo dia."
   ]
  },
  {
   "attachments": {},
   "cell_type": "markdown",
   "metadata": {},
   "source": [
    "___"
   ]
  },
  {
   "attachments": {},
   "cell_type": "markdown",
   "metadata": {},
   "source": [
    "#### Vamos criar 3 DataFrames para trabalharmos estas 3 delimitações históricas.\n",
    "#### Vou processar removendo pontuação, tokenizar e remover stopwords"
   ]
  },
  {
   "cell_type": "code",
   "execution_count": null,
   "metadata": {},
   "outputs": [],
   "source": [
    "dt_impeachment_bolsonaro = df_txt_bolsonaro.loc[(df_txt_bolsonaro['created_at'] >=  '2015-12-02')\n",
    "                                        &\n",
    "                                        (df_txt_bolsonaro['created_at'] <=  '2016-08-31')]\n",
    "\n",
    "dt_prisao_bolsonaro = df_txt_bolsonaro.loc[(df_txt_bolsonaro['created_at'] >=  '2018-04-07')\n",
    "                                        &\n",
    "                                        (df_txt_bolsonaro['created_at'] <=  '2019-11-08')]\n",
    "\n",
    "dt_eleicoes_bolsonaro = df_txt_bolsonaro.loc[(df_txt_bolsonaro['created_at'] >=  '2018-08-31')\n",
    "                                        &\n",
    "                                        (df_txt_bolsonaro['created_at'] <=  '2018-10-28')]\n",
    "\n",
    "\n",
    "dt_impeachment_lula = df_txt_lula.loc[(df_txt_lula['created_at'] >=  '2015-12-02')\n",
    "                                        &\n",
    "                                        (df_txt_lula['created_at'] <=  '2016-08-31')]\n",
    "\n",
    "dt_prisao_lula = df_txt_lula.loc[(df_txt_lula['created_at'] >=  '2018-04-07')\n",
    "                                        &\n",
    "                                        (df_txt_lula['created_at'] <=  '2019-11-08')]\n",
    "\n",
    "dt_eleicoes_lula = df_txt_lula.loc[(df_txt_lula['created_at'] >=  '2018-08-31')\n",
    "                                        &\n",
    "                                        (df_txt_lula['created_at'] <=  '2018-10-28')]"
   ]
  },
  {
   "cell_type": "code",
   "execution_count": null,
   "metadata": {},
   "outputs": [],
   "source": [
    "print(f'Quantidade de tweets de Bolsonaro durante o processo de impeachment de Dilma: {dt_impeachment_bolsonaro.shape[0]}')\n",
    "print(f'Quantidade de tweets de Lula durante o processo de impeachment de Dilma: {dt_impeachment_lula.shape[0]}\\n')\n",
    "print(f'Quantidade de tweets de Bolsonaro durante a prisão de Lula: {dt_prisao_bolsonaro.shape[0]}')\n",
    "print(f'Quantidade de tweets de Lula durante a prisão de Lula: {dt_prisao_lula.shape[0]}\\n')\n",
    "print(f'Quantidade de tweets de Bolsonaro durante as eleições de 2018: {dt_eleicoes_bolsonaro.shape[0]}')\n",
    "print(f'Quantidade de tweets de Lula durante as eleições de 2018: {dt_eleicoes_lula.shape[0]}\\n')"
   ]
  },
  {
   "cell_type": "code",
   "execution_count": null,
   "metadata": {},
   "outputs": [],
   "source": [
    "def processar_texto(texto):\n",
    "    # Tornar tudo minúsculo\n",
    "    texto = texto.lower()\n",
    "    \n",
    "    # Remover palavras iniciadas em https\n",
    "    texto = re.sub(r'\\bhttp[s]?:\\/\\/\\S+\\b', '', texto)\n",
    "\n",
    "    # Remover pontuação\n",
    "\n",
    "    texto_sem_pontuacao = ''.join([palavra for palavra in texto if palavra not in string.punctuation])\n",
    "    \n",
    "    # Separar palavras\n",
    "    palavras = tokenize.word_tokenize(texto_sem_pontuacao, language='portuguese')\n",
    "    \n",
    "    # Remover stopwords\n",
    "    stopwords = nltk.corpus.stopwords.words('portuguese')\n",
    "    palavras_sem_stop = [palavra for palavra in palavras if palavra not in stopwords and len(palavra)>1]\n",
    "    \n",
    "    return palavras_sem_stop\n",
    "\n",
    "\n",
    "def frequencia(texto_processado, quantidade):\n",
    "    freq = FreqDist(texto_processado)\n",
    "    freq = freq.most_common(quantidade)\n",
    "    return freq"
   ]
  },
  {
   "cell_type": "code",
   "execution_count": null,
   "metadata": {},
   "outputs": [],
   "source": [
    "dt_impeachment_bolsonaro['full_text'] = dt_impeachment_bolsonaro['full_text'].apply(processar_texto)\n",
    "\n",
    "dt_prisao_bolsonaro['full_text'] = dt_prisao_bolsonaro['full_text'].apply(processar_texto)\n",
    "\n",
    "dt_eleicoes_bolsonaro['full_text'] = dt_eleicoes_bolsonaro['full_text'].apply(processar_texto)\n",
    "\n",
    "\n",
    "dt_impeachment_lula['full_text'] = dt_impeachment_lula['full_text'].apply(processar_texto)\n",
    "\n",
    "dt_prisao_lula['full_text'] = dt_prisao_lula['full_text'].apply(processar_texto)\n",
    "\n",
    "dt_eleicoes_lula['full_text'] = dt_eleicoes_lula['full_text'].apply(processar_texto)\n"
   ]
  },
  {
   "attachments": {},
   "cell_type": "markdown",
   "metadata": {},
   "source": [
    "___"
   ]
  },
  {
   "attachments": {},
   "cell_type": "markdown",
   "metadata": {},
   "source": [
    "#### Delimitação 1: Processo de impeachment de Dilma Rousseff (2 de dezembro de 2015 – 31 de ago. de 2016)"
   ]
  },
  {
   "cell_type": "code",
   "execution_count": null,
   "metadata": {},
   "outputs": [],
   "source": [
    "impeachment_bolsonaro = ' '.join(dt_impeachment_bolsonaro['full_text'].apply(' '.join))\n",
    "impeachment_lula =  ' '.join(dt_impeachment_lula['full_text'].apply(' '.join))"
   ]
  },
  {
   "cell_type": "code",
   "execution_count": null,
   "metadata": {},
   "outputs": [],
   "source": [
    "top30 = frequencia(impeachment_bolsonaro.split(), 30)\n",
    "top30 = dict(top30)\n",
    "\n",
    "nuvem_de_palavras = WordCloud(stopwords=stopwords,\n",
    "                              height=800,\n",
    "                              width=800)\n",
    "nuvem_de_palavras.generate_from_frequencies(top30)\n",
    "\n",
    "plt.imshow(nuvem_de_palavras)\n",
    "plt.show()"
   ]
  },
  {
   "cell_type": "code",
   "execution_count": null,
   "metadata": {},
   "outputs": [],
   "source": [
    "top20 = frequencia(impeachment_bolsonaro.split(), 20)\n",
    "top20 = dict(top20)\n",
    "\n",
    "df = pd.DataFrame.from_dict(top20.items())\n",
    "df = df.rename(columns={0:'Palavras', 1:'Repetições'})\n",
    "\n",
    "# Adiciona os rótulos das barras\n",
    "for i, v in enumerate(df['Repetições']):\n",
    "    plt.text(v, i, str(v))\n",
    "\n",
    "plt.barh(df['Palavras'], df['Repetições'])\n",
    "plt.figure(figsize=(8, 8))\n",
    "plt.show()"
   ]
  },
  {
   "cell_type": "code",
   "execution_count": null,
   "metadata": {},
   "outputs": [],
   "source": [
    "top30 = frequencia(impeachment_lula.split(), 30)\n",
    "top30 = dict(top30)\n",
    "nuvem_de_palavras = WordCloud(stopwords=stopwords,\n",
    "                              height=800,\n",
    "                              width=800,\n",
    "                              max_words=30)\n",
    "nuvem_de_palavras.generate_from_frequencies(top30)\n",
    "\n",
    "plt.imshow(nuvem_de_palavras)\n",
    "plt.show()"
   ]
  },
  {
   "cell_type": "code",
   "execution_count": null,
   "metadata": {},
   "outputs": [],
   "source": [
    "top20 = frequencia(impeachment_lula.split(), 20)\n",
    "\n",
    "top20 = dict(top20)\n",
    "df = pd.DataFrame.from_dict(top20.items())\n",
    "df = df.rename(columns={0:'Palavras', 1:'Repetições'})\n",
    "\n",
    "for i, v in enumerate(df['Repetições']):\n",
    "    plt.text(v, i, str(v))\n",
    "\n",
    "plt.barh(df['Palavras'], df['Repetições'])\n",
    "plt.figure(figsize=(8, 8))\n",
    "plt.show()"
   ]
  },
  {
   "attachments": {},
   "cell_type": "markdown",
   "metadata": {},
   "source": [
    "Sob uma perspectiva de uma análise não enviesada, o ideal não seria trabalhar com valores absolutos.\n",
    "\n",
    "Bolsonaro tem 559 tweets no período e Lula tem 899.\n",
    "\n",
    "Mesmo que o ideal seja uma relação proporcional, é interessante perceber que Bolsonaro citou o termo PT 8 vezes mais que Lula. Podemos refletir sobre a construção e a efevercencia do antipetismo no período.\n",
    "\n",
    "\n",
    "Nas 20 palavras mais frequentes:\n",
    "\n",
    "> Bolsonaro cita 'PT': 49   |   Lula cita 'PT': 41\n",
    "\n",
    "\n",
    "> Lula não se refere ao termo 'impeachment', mas aparecem citações à 'golpe'\n",
    "\n",
    "> Bolsonaro não se refere ao termo 'golpe', mas aparecem citações à 'impeachment'"
   ]
  },
  {
   "cell_type": "code",
   "execution_count": null,
   "metadata": {},
   "outputs": [],
   "source": [
    "print(f'{(21/len(impeachment_bolsonaro.split())*100):.1f}% \\\n",
    "do total de palavras postadas por Bolsonaro no período citam a palavra \"contra\".')\n",
    "print(f'{(40/len(impeachment_lula.split())*100):.1f}% \\\n",
    "do total de palavras postadas por Lula no período citam a palavra \"contra\".')"
   ]
  },
  {
   "cell_type": "code",
   "execution_count": null,
   "metadata": {},
   "outputs": [],
   "source": [
    "print(f'{(49/len(impeachment_bolsonaro.split())*100):.1f}% \\\n",
    "do total de palavras postadas por Bolsonaro no período citam o termo \"PT\".')\n",
    "print(f'{(41/len(impeachment_lula.split())*100):.1f}% \\\n",
    "do total de palavras postadas por Lula no período citam o termo \"PT\".')"
   ]
  },
  {
   "cell_type": "code",
   "execution_count": null,
   "metadata": {},
   "outputs": [],
   "source": [
    "print(f'{(19/len(impeachment_bolsonaro.split())*100):.1f}% \\\n",
    "do total de palavras postadas por Bolsonaro no período citam o nome \"Dilma\".')"
   ]
  },
  {
   "attachments": {},
   "cell_type": "markdown",
   "metadata": {},
   "source": [
    "### É possível utilizar tweets para identificar a orientação política?"
   ]
  },
  {
   "cell_type": "code",
   "execution_count": null,
   "metadata": {},
   "outputs": [],
   "source": [
    "def agrupar(tokens):\n",
    "   tweet = ' '.join(tokens)\n",
    "   return tweet"
   ]
  },
  {
   "cell_type": "code",
   "execution_count": null,
   "metadata": {},
   "outputs": [],
   "source": [
    "dt_impeachment_bolsonaro['full_text'] = dt_impeachment_bolsonaro['full_text'].apply(agrupar)\n",
    "dt_impeachment_lula['full_text'] = dt_impeachment_lula['full_text'].apply(agrupar)"
   ]
  },
  {
   "cell_type": "code",
   "execution_count": null,
   "metadata": {},
   "outputs": [],
   "source": [
    "# Cria o vetorizador\n",
    "vectorizer = CountVectorizer()\n",
    "\n",
    "# Aplica o vetorizador na coluna full_text\n",
    "X_lula = vectorizer.fit_transform(dt_impeachment_lula['full_text'])\n",
    "X_bolsonaro = vectorizer.fit_transform(dt_impeachment_bolsonaro['full_text'])\n",
    "\n",
    "# O resultado é uma matriz esparsa com a contagem de palavras\n",
    "dt_impeachment_lula['vectorized_text'] = list(X_lula.toarray())\n",
    "dt_impeachment_bolsonaro['vectorized_text'] = list(X_bolsonaro.toarray())\n"
   ]
  },
  {
   "cell_type": "code",
   "execution_count": null,
   "metadata": {},
   "outputs": [],
   "source": []
  },
  {
   "attachments": {},
   "cell_type": "markdown",
   "metadata": {},
   "source": [
    "___"
   ]
  }
 ],
 "metadata": {
  "kernelspec": {
   "display_name": ".venv",
   "language": "python",
   "name": "python3"
  },
  "language_info": {
   "codemirror_mode": {
    "name": "ipython",
    "version": 3
   },
   "file_extension": ".py",
   "mimetype": "text/x-python",
   "name": "python",
   "nbconvert_exporter": "python",
   "pygments_lexer": "ipython3",
   "version": "3.9.7"
  },
  "orig_nbformat": 4
 },
 "nbformat": 4,
 "nbformat_minor": 2
}
